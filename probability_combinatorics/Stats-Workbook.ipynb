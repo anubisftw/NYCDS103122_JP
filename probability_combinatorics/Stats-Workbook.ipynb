{
 "cells": [
  {
   "cell_type": "code",
   "execution_count": 1,
   "id": "a8100402",
   "metadata": {},
   "outputs": [],
   "source": [
    "import pandas as pd \n",
    "import numpy as np \n",
    "import scipy \n",
    "from scipy import stats\n",
    "import math \n",
    "from scipy.stats import norm\n",
    "import random"
   ]
  },
  {
   "cell_type": "markdown",
   "id": "1b725adc",
   "metadata": {},
   "source": [
    "I have a normally distributed data with mean 10 and SD 4:\n",
    "\n",
    "How many SD from center is  value 17 ?\n",
    "\n",
    "\n",
    "\n",
    "\n",
    "What % are in  range ±17 ?\n"
   ]
  },
  {
   "cell_type": "code",
   "execution_count": 8,
   "id": "60757da7",
   "metadata": {},
   "outputs": [],
   "source": [
    "# Calculate the Z-score \n",
    "# "
   ]
  },
  {
   "cell_type": "code",
   "execution_count": 9,
   "id": "e82f2d9a",
   "metadata": {},
   "outputs": [],
   "source": [
    "## what are type 1 and type 2 errors "
   ]
  },
  {
   "cell_type": "markdown",
   "id": "078e8d03",
   "metadata": {},
   "source": [
    "Define\n",
    "\n",
    "\n",
    "\n",
    "NUll hypothesis :\n",
    "\n",
    "\n",
    "\n",
    "Alternative Hypothesis : "
   ]
  },
  {
   "cell_type": "markdown",
   "id": "f1d1922e",
   "metadata": {},
   "source": [
    "## calculate p value of this \n",
    "\n",
    "\n",
    "\n",
    "test the  null hypothesis H0: μ = 120 \n",
    "alternative hypothesis Hα: μ > 120 \n",
    "and α = 0.05. \n",
    "\n",
    "The sample is \n",
    "\n",
    "n =40, σ = 32 and x̄ = 105"
   ]
  },
  {
   "cell_type": "code",
   "execution_count": 18,
   "id": "07dbcfbe",
   "metadata": {},
   "outputs": [
    {
     "data": {
      "text/plain": [
       "[6, 4, 3, 8, 2]"
      ]
     },
     "execution_count": 18,
     "metadata": {},
     "output_type": "execute_result"
    }
   ],
   "source": [
    "random.sample(range(2,10),5)"
   ]
  },
  {
   "cell_type": "markdown",
   "id": "149154c8",
   "metadata": {},
   "source": [
    "#2 \n",
    " \n",
    "One farmer grows with miracle grow , the other farmer grows without it, \n",
    "the first farmer says his plants grow larger. \n",
    "they collected measurements of all of thier plants. \n",
    "\n",
    "\n",
    "state the alt and Null hypothesis\n",
    "\n",
    "calculate p value. "
   ]
  },
  {
   "cell_type": "code",
   "execution_count": 24,
   "id": "c721fafb",
   "metadata": {},
   "outputs": [],
   "source": [
    "miracle_grow_farmer = random.sample(range(4,12),5)\n",
    "regular_farmer = random.sample(range(2,10),5)"
   ]
  },
  {
   "cell_type": "markdown",
   "id": "7307c63b",
   "metadata": {},
   "source": [
    "# bayesian stats \n",
    "\n",
    "##1\n",
    "In a particular pain clinic, 10% of patients are prescribed narcotic pain killers. \n",
    "Overall, five percent of the clinic’s patients are addicted to narcotics \n",
    "(including pain killers and illegal substances). Out of all the people prescribed pain pills,\n",
    "8% are addicts. If a patient is an addict, what is the probability that they will be prescribed pain pills?"
   ]
  },
  {
   "cell_type": "markdown",
   "id": "c6310de6",
   "metadata": {},
   "source": [
    "## 2\n",
    "1% of people have a certain genetic defect.\n",
    "90% of tests for the gene detect the defect (true positives).\n",
    "9.6% of the tests are false positives.\n",
    "If a person gets a positive test result, what are the odds they actually have the genetic defect?"
   ]
  },
  {
   "cell_type": "markdown",
   "id": "c2464f5a",
   "metadata": {},
   "source": [
    "## confidence intervals \n",
    "\n",
    "find the lower and upper bounds for the mean number of packages a \n",
    "delivery driver is able to deliver in one month (30 days), \n",
    "he averages 15 packages a day with a standard deviation of 5"
   ]
  },
  {
   "cell_type": "code",
   "execution_count": null,
   "id": "57444ce0",
   "metadata": {},
   "outputs": [],
   "source": []
  }
 ],
 "metadata": {
  "kernelspec": {
   "display_name": "Python 3 (ipykernel)",
   "language": "python",
   "name": "python3"
  },
  "language_info": {
   "codemirror_mode": {
    "name": "ipython",
    "version": 3
   },
   "file_extension": ".py",
   "mimetype": "text/x-python",
   "name": "python",
   "nbconvert_exporter": "python",
   "pygments_lexer": "ipython3",
   "version": "3.9.12"
  }
 },
 "nbformat": 4,
 "nbformat_minor": 5
}
